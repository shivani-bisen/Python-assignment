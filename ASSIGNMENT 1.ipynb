{
 "cells": [
  {
   "cell_type": "markdown",
   "metadata": {},
   "source": [
    "## Q1"
   ]
  },
  {
   "cell_type": "markdown",
   "metadata": {},
   "source": [
    "# Operator- which tells the compiler or interpreter to perform actions such as mathematical, logical and relational operations and then give end results.\n",
    "# Operators- *,/,-,+\n",
    "# Values- ‘hello’, -87.8, 6   '''\n"
   ]
  },
  {
   "cell_type": "markdown",
   "metadata": {},
   "source": [
    "# Q2 \n",
    "# String- stores heterogeneous datatypes at a time – ‘spam’\n",
    "# Variable- stores homogeneous datatype at a time- spam  '''\n"
   ]
  },
  {
   "cell_type": "markdown",
   "metadata": {},
   "source": [
    "# Q3 \n",
    "# 1)int- integer datatype stores integer value\n",
    "# 2)float- stores number which are in decimal format\n",
    "# 3)Boolean- stores value in the form of True or False\n"
   ]
  },
  {
   "cell_type": "markdown",
   "metadata": {},
   "source": [
    "# Q4 \n",
    "# An expression is a combination of operators,constants and variables, \n",
    "# which consists of one or more operands and,zero or more operators to give the result.\n",
    "# Functions of all the expression is to perfom the task and give the end result.\n"
   ]
  },
  {
   "cell_type": "markdown",
   "metadata": {},
   "source": [
    "# Q5 \n",
    "# Statements represent an action or command e.g print statements, assignment statements. \n",
    "# Expression is a combination of variables, operations and values that yields a result value."
   ]
  },
  {
   "cell_type": "markdown",
   "metadata": {},
   "source": [
    "# Q6 \n",
    "# bacon = 23"
   ]
  },
  {
   "cell_type": "markdown",
   "metadata": {},
   "source": [
    "# Q7\n",
    "# 'spam'+'spamspam -'spamspamspam'\n",
    "# 'spam'*3 - 'spamspamspam'"
   ]
  },
  {
   "cell_type": "markdown",
   "metadata": {},
   "source": [
    "# Q8 \n",
    "# because the compiler will take the no. \"100\" as literal constant and back tracking is not\n",
    "# allowed while compiling a variable name."
   ]
  },
  {
   "cell_type": "markdown",
   "metadata": {},
   "source": [
    "# Q9 int, float and str respectively"
   ]
  },
  {
   "cell_type": "code",
   "execution_count": 14,
   "metadata": {},
   "outputs": [
    {
     "name": "stdout",
     "output_type": "stream",
     "text": [
      " I have eaten'+99'burritos.\n"
     ]
    }
   ],
   "source": [
    "# Q10 adding double inverted coma(\"\") will remove the error because '' is present in between the sentence\n",
    "print(\" I have eaten'+99'burritos.\")"
   ]
  },
  {
   "cell_type": "code",
   "execution_count": null,
   "metadata": {},
   "outputs": [],
   "source": []
  }
 ],
 "metadata": {
  "kernelspec": {
   "display_name": "Python 3",
   "language": "python",
   "name": "python3"
  },
  "language_info": {
   "codemirror_mode": {
    "name": "ipython",
    "version": 3
   },
   "file_extension": ".py",
   "mimetype": "text/x-python",
   "name": "python",
   "nbconvert_exporter": "python",
   "pygments_lexer": "ipython3",
   "version": "3.8.5"
  }
 },
 "nbformat": 4,
 "nbformat_minor": 4
}
